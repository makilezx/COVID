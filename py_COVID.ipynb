{
 "cells": [
  {
   "cell_type": "code",
   "execution_count": 1,
   "metadata": {},
   "outputs": [],
   "source": [
    "#biblioteke\n",
    "import pandas as pd\n",
    "import seaborn as sns\n",
    "import numpy as np\n",
    "import matplotlib.pyplot as plt"
   ]
  },
  {
   "cell_type": "code",
   "execution_count": 2,
   "metadata": {},
   "outputs": [],
   "source": [
    "#import matrice\n",
    "matrica = pd.read_csv('pand.csv')\n",
    "df = pd.DataFrame(matrica)"
   ]
  },
  {
   "cell_type": "code",
   "execution_count": 3,
   "metadata": {},
   "outputs": [
    {
     "data": {
      "text/plain": [
       "(116, 165)"
      ]
     },
     "execution_count": 3,
     "metadata": {},
     "output_type": "execute_result"
    }
   ],
   "source": [
    "#test\n",
    "df.shape"
   ]
  },
  {
   "cell_type": "code",
   "execution_count": null,
   "metadata": {},
   "outputs": [],
   "source": [
    "#drop NaN\n"
   ]
  },
  {
   "cell_type": "code",
   "execution_count": 82,
   "metadata": {},
   "outputs": [],
   "source": [
    "#svrstavanje var po setovima/upitnicima\n",
    "#[1] ponasanje tokom pandemije\n",
    "v1 = df.iloc[:, 2:13]\n",
    "#[2] korisnost mera\n",
    "v2 = df.iloc[:, 13:25]\n",
    "#[3] stav prema merama + strah od koronavirusa\n",
    "v3 = df.iloc[:, 25:42]\n",
    "#[4] procena rizika\n",
    "v4 = df.iloc[:, 42:51]\n",
    "#[5] teorije zavere / TZ\n",
    "v5 = df.iloc[:, 51:64]\n",
    "#[6] brief HEXACO inventory / BHI\n",
    "v6 = df.iloc[:, 64:88]\n",
    "#[7] assesment of sadistic personality / ASP\n",
    "v7 = df.iloc[:, 88:97]\n",
    "#[8] selfishness questionairre / SQ\n",
    "v8 = df.iloc[:, 97:121]\n",
    "#[9] need for chaos / NFC\n",
    "v9 = df.iloc[:, 121:132]\n",
    "#[10] dark triad dirty dozen / DTDD\n",
    "v10 = df.iloc[:, 132:144]\n",
    "#[11]politicka orjentacija\n",
    "v11 = df.iloc[:, 144:147]\n",
    "#[12]demografske\n",
    "v12 = df.iloc[:, 147:164]"
   ]
  },
  {
   "cell_type": "code",
   "execution_count": null,
   "metadata": {},
   "outputs": [],
   "source": [
    "#seaborn test\n",
    "sns.boxenplot(data=df, y=\"Perete/dezinfikujete ruke dok ste napolju.\",\n",
    "                 x=\"Pol:\")"
   ]
  }
 ],
 "metadata": {
  "kernelspec": {
   "display_name": "Python 3",
   "language": "python",
   "name": "python3"
  },
  "language_info": {
   "codemirror_mode": {
    "name": "ipython",
    "version": 3
   },
   "file_extension": ".py",
   "mimetype": "text/x-python",
   "name": "python",
   "nbconvert_exporter": "python",
   "pygments_lexer": "ipython3",
   "version": "3.8.5"
  }
 },
 "nbformat": 4,
 "nbformat_minor": 4
}
